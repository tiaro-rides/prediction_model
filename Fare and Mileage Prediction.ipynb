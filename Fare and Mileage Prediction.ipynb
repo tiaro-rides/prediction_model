git rm <filename>
git commit -m "Removed wrongly placed files"
git push
