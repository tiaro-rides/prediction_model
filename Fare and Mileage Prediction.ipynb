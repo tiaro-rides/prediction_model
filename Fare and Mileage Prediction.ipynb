{
  "nbformat": 4,
  "nbformat_minor": 0,
  "metadata": {
    "colab": {
      "provenance": []
    },
    "kernelspec": {
      "name": "python3",
      "display_name": "Python 3"
    },
    "language_info": {
      "name": "python"
    }
  },
  "cells": [
    {
      "cell_type": "code",
      "execution_count": null,
      "metadata": {
        "id": "4jwh5KrgfR0a"
      },
      "outputs": [],
      "source": [
        "import pandas as pd\n",
        "import numpy as np\n",
        "from sklearn.model_selection import train_test_split\n",
        "from sklearn.linear_model import LinearRegression\n",
        "from sklearn.tree import DecisionTreeRegressor\n",
        "from sklearn.metrics import mean_squared_error\n",
        "from sklearn.ensemble import RandomForestRegressor"
      ]
    },
    {
      "cell_type": "code",
      "source": [
        "from google.colab import files\n",
        "uploaded = files.upload()\n"
      ],
      "metadata": {
        "colab": {
          "base_uri": "https://localhost:8080/",
          "height": 69
        },
        "id": "vCLOkOmRfS6s",
        "outputId": "6e87ec1e-6343-491e-cb38-992e0f078cdb"
      },
      "execution_count": 46,
      "outputs": [
        {
          "output_type": "display_data",
          "data": {
            "text/plain": [
              "<IPython.core.display.HTML object>"
            ],
            "text/html": [
              "\n",
              "     <input type=\"file\" id=\"files-ba5dbc02-4218-4ce1-b199-b2f394ebdcc8\" name=\"files[]\" multiple disabled\n",
              "        style=\"border:none\" />\n",
              "     <output id=\"result-ba5dbc02-4218-4ce1-b199-b2f394ebdcc8\">\n",
              "      Upload widget is only available when the cell has been executed in the\n",
              "      current browser session. Please rerun this cell to enable.\n",
              "      </output>\n",
              "      <script>// Copyright 2017 Google LLC\n",
              "//\n",
              "// Licensed under the Apache License, Version 2.0 (the \"License\");\n",
              "// you may not use this file except in compliance with the License.\n",
              "// You may obtain a copy of the License at\n",
              "//\n",
              "//      http://www.apache.org/licenses/LICENSE-2.0\n",
              "//\n",
              "// Unless required by applicable law or agreed to in writing, software\n",
              "// distributed under the License is distributed on an \"AS IS\" BASIS,\n",
              "// WITHOUT WARRANTIES OR CONDITIONS OF ANY KIND, either express or implied.\n",
              "// See the License for the specific language governing permissions and\n",
              "// limitations under the License.\n",
              "\n",
              "/**\n",
              " * @fileoverview Helpers for google.colab Python module.\n",
              " */\n",
              "(function(scope) {\n",
              "function span(text, styleAttributes = {}) {\n",
              "  const element = document.createElement('span');\n",
              "  element.textContent = text;\n",
              "  for (const key of Object.keys(styleAttributes)) {\n",
              "    element.style[key] = styleAttributes[key];\n",
              "  }\n",
              "  return element;\n",
              "}\n",
              "\n",
              "// Max number of bytes which will be uploaded at a time.\n",
              "const MAX_PAYLOAD_SIZE = 100 * 1024;\n",
              "\n",
              "function _uploadFiles(inputId, outputId) {\n",
              "  const steps = uploadFilesStep(inputId, outputId);\n",
              "  const outputElement = document.getElementById(outputId);\n",
              "  // Cache steps on the outputElement to make it available for the next call\n",
              "  // to uploadFilesContinue from Python.\n",
              "  outputElement.steps = steps;\n",
              "\n",
              "  return _uploadFilesContinue(outputId);\n",
              "}\n",
              "\n",
              "// This is roughly an async generator (not supported in the browser yet),\n",
              "// where there are multiple asynchronous steps and the Python side is going\n",
              "// to poll for completion of each step.\n",
              "// This uses a Promise to block the python side on completion of each step,\n",
              "// then passes the result of the previous step as the input to the next step.\n",
              "function _uploadFilesContinue(outputId) {\n",
              "  const outputElement = document.getElementById(outputId);\n",
              "  const steps = outputElement.steps;\n",
              "\n",
              "  const next = steps.next(outputElement.lastPromiseValue);\n",
              "  return Promise.resolve(next.value.promise).then((value) => {\n",
              "    // Cache the last promise value to make it available to the next\n",
              "    // step of the generator.\n",
              "    outputElement.lastPromiseValue = value;\n",
              "    return next.value.response;\n",
              "  });\n",
              "}\n",
              "\n",
              "/**\n",
              " * Generator function which is called between each async step of the upload\n",
              " * process.\n",
              " * @param {string} inputId Element ID of the input file picker element.\n",
              " * @param {string} outputId Element ID of the output display.\n",
              " * @return {!Iterable<!Object>} Iterable of next steps.\n",
              " */\n",
              "function* uploadFilesStep(inputId, outputId) {\n",
              "  const inputElement = document.getElementById(inputId);\n",
              "  inputElement.disabled = false;\n",
              "\n",
              "  const outputElement = document.getElementById(outputId);\n",
              "  outputElement.innerHTML = '';\n",
              "\n",
              "  const pickedPromise = new Promise((resolve) => {\n",
              "    inputElement.addEventListener('change', (e) => {\n",
              "      resolve(e.target.files);\n",
              "    });\n",
              "  });\n",
              "\n",
              "  const cancel = document.createElement('button');\n",
              "  inputElement.parentElement.appendChild(cancel);\n",
              "  cancel.textContent = 'Cancel upload';\n",
              "  const cancelPromise = new Promise((resolve) => {\n",
              "    cancel.onclick = () => {\n",
              "      resolve(null);\n",
              "    };\n",
              "  });\n",
              "\n",
              "  // Wait for the user to pick the files.\n",
              "  const files = yield {\n",
              "    promise: Promise.race([pickedPromise, cancelPromise]),\n",
              "    response: {\n",
              "      action: 'starting',\n",
              "    }\n",
              "  };\n",
              "\n",
              "  cancel.remove();\n",
              "\n",
              "  // Disable the input element since further picks are not allowed.\n",
              "  inputElement.disabled = true;\n",
              "\n",
              "  if (!files) {\n",
              "    return {\n",
              "      response: {\n",
              "        action: 'complete',\n",
              "      }\n",
              "    };\n",
              "  }\n",
              "\n",
              "  for (const file of files) {\n",
              "    const li = document.createElement('li');\n",
              "    li.append(span(file.name, {fontWeight: 'bold'}));\n",
              "    li.append(span(\n",
              "        `(${file.type || 'n/a'}) - ${file.size} bytes, ` +\n",
              "        `last modified: ${\n",
              "            file.lastModifiedDate ? file.lastModifiedDate.toLocaleDateString() :\n",
              "                                    'n/a'} - `));\n",
              "    const percent = span('0% done');\n",
              "    li.appendChild(percent);\n",
              "\n",
              "    outputElement.appendChild(li);\n",
              "\n",
              "    const fileDataPromise = new Promise((resolve) => {\n",
              "      const reader = new FileReader();\n",
              "      reader.onload = (e) => {\n",
              "        resolve(e.target.result);\n",
              "      };\n",
              "      reader.readAsArrayBuffer(file);\n",
              "    });\n",
              "    // Wait for the data to be ready.\n",
              "    let fileData = yield {\n",
              "      promise: fileDataPromise,\n",
              "      response: {\n",
              "        action: 'continue',\n",
              "      }\n",
              "    };\n",
              "\n",
              "    // Use a chunked sending to avoid message size limits. See b/62115660.\n",
              "    let position = 0;\n",
              "    do {\n",
              "      const length = Math.min(fileData.byteLength - position, MAX_PAYLOAD_SIZE);\n",
              "      const chunk = new Uint8Array(fileData, position, length);\n",
              "      position += length;\n",
              "\n",
              "      const base64 = btoa(String.fromCharCode.apply(null, chunk));\n",
              "      yield {\n",
              "        response: {\n",
              "          action: 'append',\n",
              "          file: file.name,\n",
              "          data: base64,\n",
              "        },\n",
              "      };\n",
              "\n",
              "      let percentDone = fileData.byteLength === 0 ?\n",
              "          100 :\n",
              "          Math.round((position / fileData.byteLength) * 100);\n",
              "      percent.textContent = `${percentDone}% done`;\n",
              "\n",
              "    } while (position < fileData.byteLength);\n",
              "  }\n",
              "\n",
              "  // All done.\n",
              "  yield {\n",
              "    response: {\n",
              "      action: 'complete',\n",
              "    }\n",
              "  };\n",
              "}\n",
              "\n",
              "scope.google = scope.google || {};\n",
              "scope.google.colab = scope.google.colab || {};\n",
              "scope.google.colab._files = {\n",
              "  _uploadFiles,\n",
              "  _uploadFilesContinue,\n",
              "};\n",
              "})(self);\n",
              "</script> "
            ]
          },
          "metadata": {}
        },
        {
          "output_type": "stream",
          "name": "stdout",
          "text": [
            "Saving fare_prediction_dataset.csv to fare_prediction_dataset (1).csv\n"
          ]
        }
      ]
    },
    {
      "cell_type": "code",
      "source": [
        "# Load the dataset\n",
        "df = pd.read_csv('fare_prediction_dataset.csv')"
      ],
      "metadata": {
        "id": "6PxE8jQDfcNU"
      },
      "execution_count": null,
      "outputs": []
    },
    {
      "cell_type": "code",
      "source": [
        "# Drop rows with missing key values\n",
        "df.dropna(subset=['trip_distance_km', 'claimed_mileage_kmpl', 'fuel_price_per_litre'], inplace=True)\n"
      ],
      "metadata": {
        "id": "dYc-FjrAYRSX"
      },
      "execution_count": null,
      "outputs": []
    },
    {
      "cell_type": "code",
      "source": [
        "# Replace 0 in mileage with NaN to avoid division by zero\n",
        "df['claimed_mileage_kmpl'].replace(0, np.nan, inplace=True)\n",
        "df.dropna(subset=['claimed_mileage_kmpl'], inplace=True)\n"
      ],
      "metadata": {
        "colab": {
          "base_uri": "https://localhost:8080/"
        },
        "id": "MTqYjmhhYr0H",
        "outputId": "aaa1705c-dfa3-4d64-eb49-44daae2df7f2"
      },
      "execution_count": null,
      "outputs": [
        {
          "output_type": "stream",
          "name": "stderr",
          "text": [
            "/tmp/ipython-input-5-1221080721.py:2: FutureWarning: A value is trying to be set on a copy of a DataFrame or Series through chained assignment using an inplace method.\n",
            "The behavior will change in pandas 3.0. This inplace method will never work because the intermediate object on which we are setting values always behaves as a copy.\n",
            "\n",
            "For example, when doing 'df[col].method(value, inplace=True)', try using 'df.method({col: value}, inplace=True)' or df[col] = df[col].method(value) instead, to perform the operation inplace on the original object.\n",
            "\n",
            "\n",
            "  df['claimed_mileage_kmpl'].replace(0, np.nan, inplace=True)\n"
          ]
        }
      ]
    },
    {
      "cell_type": "code",
      "source": [
        "# Vehicle age\n",
        "df['vehicle_age'] = 2025 - df['year_of_manufacture']\n",
        "df['age_factor'] = df['vehicle_age'].apply(lambda x: max(0.7, 1.0 - 0.05 * x))\n"
      ],
      "metadata": {
        "id": "VQvEBzQPYwEO"
      },
      "execution_count": null,
      "outputs": []
    },
    {
      "cell_type": "code",
      "source": [
        "# AC factor\n",
        "df['AC_factor'] = df['AC_on'].apply(lambda x: 1.05 if x else 1.0)\n"
      ],
      "metadata": {
        "id": "wu9VLay9Y4G5"
      },
      "execution_count": null,
      "outputs": []
    },
    {
      "cell_type": "code",
      "source": [
        "# Ride type factor\n",
        "ride_type_map = {'Shared': 1.0, 'Exclusive': 1.2}\n",
        "df['ride_type_factor'] = df['ride_type'].map(ride_type_map)\n"
      ],
      "metadata": {
        "id": "6uUPBqYlZAvb"
      },
      "execution_count": null,
      "outputs": []
    },
    {
      "cell_type": "code",
      "source": [
        "# Car type factor\n",
        "car_type_map = {'Hatch': 1.0, 'Sedan': 1.1, 'SUV': 1.2}\n",
        "df['car_type_factor'] = df['car_type'].map(car_type_map)\n"
      ],
      "metadata": {
        "id": "gu3qnwOtZJt-"
      },
      "execution_count": null,
      "outputs": []
    },
    {
      "cell_type": "code",
      "source": [
        "# Time of day factor\n",
        "def time_factor(t):\n",
        "    return 1.2 if str(t).lower() in ['morning', 'evening'] else 1.0\n",
        "df['time_of_day_factor'] = df['time_of_day'].apply(time_factor)\n"
      ],
      "metadata": {
        "id": "avorJVstZPBq"
      },
      "execution_count": null,
      "outputs": []
    },
    {
      "cell_type": "code",
      "source": [
        "# Day type factor\n",
        "df['day_type_factor'] = df['day_type'].apply(lambda x: 1.1 if x == 'Weekend' else 1.0)\n",
        "\n"
      ],
      "metadata": {
        "id": "9uFUoi23ZSYg"
      },
      "execution_count": null,
      "outputs": []
    },
    {
      "cell_type": "code",
      "source": [
        "# Area surge\n",
        "surge_map = {'High': 0.1, 'Medium': 0.0, 'Low': -0.1}\n",
        "df['area_surge'] = df['area_supply_status'].map(surge_map)\n"
      ],
      "metadata": {
        "id": "S4voLmlgZWCo"
      },
      "execution_count": null,
      "outputs": []
    },
    {
      "cell_type": "code",
      "source": [
        "# M2 calculation\n",
        "df['M2'] = (df['age_factor'] * df['AC_factor'] * df['ride_type_factor'] *\n",
        "            df['car_type_factor'] * df['time_of_day_factor'] * df['day_type_factor']) + df['area_surge']\n"
      ],
      "metadata": {
        "id": "XbPGC3iaZbCB"
      },
      "execution_count": null,
      "outputs": []
    },
    {
      "cell_type": "code",
      "source": [
        "# Full rule-based fare with minimum base fare (₹40)\n",
        "df['predicted_fare_rule'] = (\n",
        "    (df['trip_distance_km'] / df['claimed_mileage_kmpl']) *\n",
        "    df['fuel_price_per_litre'] * df['M2']\n",
        ").apply(lambda x: max(x, 40))\n"
      ],
      "metadata": {
        "id": "M0bs02S3ZjuX"
      },
      "execution_count": null,
      "outputs": []
    },
    {
      "cell_type": "code",
      "source": [
        "y = df['predicted_fare_rule']  # your formula-based target\n"
      ],
      "metadata": {
        "id": "lbV6Uvr91nfP"
      },
      "execution_count": null,
      "outputs": []
    },
    {
      "cell_type": "code",
      "source": [
        "# Drop rows with missing actual fare (target)\n",
        "df.dropna(subset=['actual_fare_paid'], inplace=True)\n"
      ],
      "metadata": {
        "id": "sU0ZcESnZlKQ"
      },
      "execution_count": null,
      "outputs": []
    },
    {
      "cell_type": "code",
      "source": [
        "# Final features for ML\n",
        "features = ['trip_distance_km', 'claimed_mileage_kmpl', 'fuel_price_per_litre',\n",
        "            'vehicle_age', 'AC_on', 'ride_type_factor', 'car_type_factor',\n",
        "            'time_of_day_factor', 'day_type_factor', 'area_surge']\n",
        "X = df[features]\n",
        "y = df['actual_fare_paid']\n"
      ],
      "metadata": {
        "id": "_JUkDCaNZpJE"
      },
      "execution_count": null,
      "outputs": []
    },
    {
      "cell_type": "code",
      "source": [
        "# Drop rows where any feature or target is NaN or Inf\n",
        "df.replace([np.inf, -np.inf], np.nan, inplace=True)\n",
        "df.dropna(subset=features + ['actual_fare_paid'], inplace=True)\n"
      ],
      "metadata": {
        "id": "_7_sUgIfaB6n"
      },
      "execution_count": null,
      "outputs": []
    },
    {
      "cell_type": "code",
      "source": [
        "# Feature and label split\n",
        "X = df[features]\n",
        "y = df['actual_fare_paid']\n"
      ],
      "metadata": {
        "id": "qSbdxu-RZsvE"
      },
      "execution_count": null,
      "outputs": []
    },
    {
      "cell_type": "code",
      "source": [
        "# Split\n",
        "X_train, X_test, y_train, y_test = train_test_split(X, y, test_size=0.2, random_state=42)"
      ],
      "metadata": {
        "id": "s3ZJKyxTaOAj"
      },
      "execution_count": null,
      "outputs": []
    },
    {
      "cell_type": "code",
      "source": [
        "# Linear Regression\n",
        "lr_model = LinearRegression()\n",
        "lr_model.fit(X_train, y_train)\n",
        "y_pred_lr = lr_model.predict(X_test)\n",
        "rmse_lr = np.sqrt(mean_squared_error(y_test, y_pred_lr))\n"
      ],
      "metadata": {
        "id": "3x3rN8QbZvyG"
      },
      "execution_count": null,
      "outputs": []
    },
    {
      "cell_type": "code",
      "source": [
        "# Decision Tree Regression\n",
        "tree_model = DecisionTreeRegressor(random_state=42)\n",
        "tree_model.fit(X_train, y_train)\n",
        "y_pred_tree = tree_model.predict(X_test)\n",
        "rmse_tree = np.sqrt(mean_squared_error(y_test, y_pred_tree))\n"
      ],
      "metadata": {
        "id": "DI-yzJaLaUxg"
      },
      "execution_count": null,
      "outputs": []
    },
    {
      "cell_type": "code",
      "source": [
        "# Rule-Based Model RMSE\n",
        "rule_rmse = np.sqrt(mean_squared_error(df['actual_fare_paid'], df['predicted_fare_rule']))\n"
      ],
      "metadata": {
        "id": "zF_d0xniaZqn"
      },
      "execution_count": null,
      "outputs": []
    },
    {
      "cell_type": "code",
      "source": [
        "# Results\n",
        "print(f\"Linear Regression RMSE: {rmse_lr:.2f}\")\n",
        "print(f\"Decision Tree RMSE: {rmse_tree:.2f}\")\n",
        "print(f\"Rule-Based Fare RMSE: {rule_rmse:.2f}\")"
      ],
      "metadata": {
        "colab": {
          "base_uri": "https://localhost:8080/"
        },
        "id": "BpqaXvpHadn-",
        "outputId": "c7334eed-78b4-4d19-f99b-bacb69f2e208"
      },
      "execution_count": null,
      "outputs": [
        {
          "output_type": "stream",
          "name": "stdout",
          "text": [
            "Linear Regression RMSE: 33.29\n",
            "Decision Tree RMSE: 31.94\n",
            "Rule-Based Fare RMSE: 41.19\n"
          ]
        }
      ]
    },
    {
      "cell_type": "code",
      "source": [
        "from sklearn.ensemble import RandomForestRegressor\n",
        "import matplotlib.pyplot as plt\n",
        "import seaborn as sns\n"
      ],
      "metadata": {
        "id": "yVycAUoda6jX"
      },
      "execution_count": null,
      "outputs": []
    },
    {
      "cell_type": "code",
      "source": [
        "# Random Forest Regressor\n",
        "rf_model = RandomForestRegressor(n_estimators=100, random_state=42)\n",
        "rf_model.fit(X_train, y_train)\n",
        "y_pred_rf = rf_model.predict(X_test)\n",
        "\n",
        "# RMSE\n",
        "rmse_rf = np.sqrt(mean_squared_error(y_test, y_pred_rf))\n",
        "print(f\"Random Forest RMSE: {rmse_rf:.2f}\")\n"
      ],
      "metadata": {
        "colab": {
          "base_uri": "https://localhost:8080/"
        },
        "id": "URx_ioYoa8Z2",
        "outputId": "98ca18f7-2aad-46cf-f2c8-097001567c08"
      },
      "execution_count": null,
      "outputs": [
        {
          "output_type": "stream",
          "name": "stdout",
          "text": [
            "Random Forest RMSE: 19.30\n"
          ]
        }
      ]
    },
    {
      "cell_type": "code",
      "source": [
        "# Plot Feature Importances\n",
        "importances = rf_model.feature_importances_\n",
        "feature_names = X.columns\n",
        "\n",
        "plt.figure(figsize=(10, 6))\n",
        "sns.barplot(x=importances, y=feature_names)\n",
        "plt.title(\"Feature Importance (Random Forest)\")\n",
        "plt.xlabel(\"Importance\")\n",
        "plt.ylabel(\"Feature\")\n",
        "plt.tight_layout()\n",
        "plt.show()\n"
      ],
      "metadata": {
        "colab": {
          "base_uri": "https://localhost:8080/",
          "height": 607
        },
        "id": "r2TIAOUEbBKo",
        "outputId": "49b8c7bd-a414-4cac-fee4-c7317fb23969"
      },
      "execution_count": null,
      "outputs": [
        {
          "output_type": "display_data",
          "data": {
            "text/plain": [
              "<Figure size 1000x600 with 1 Axes>"
            ],
            "image/png": "[encoded data removed]"
          },
          "metadata": {}
        }
      ]
    },
    {
      "cell_type": "code",
      "source": [
        "# Scatter Plot\n",
        "plt.figure(figsize=(7, 6))\n",
        "sns.scatterplot(x=y_test, y=y_pred_rf, alpha=0.6)\n",
        "plt.plot([y_test.min(), y_test.max()], [y_test.min(), y_test.max()], 'r--')  # y=x line\n",
        "plt.xlabel(\"Actual Fare\")\n",
        "plt.ylabel(\"Predicted Fare\")\n",
        "plt.title(\"Random Forest: Predicted vs Actual\")\n",
        "plt.tight_layout()\n",
        "plt.show()\n"
      ],
      "metadata": {
        "colab": {
          "base_uri": "https://localhost:8080/",
          "height": 607
        },
        "id": "QQX6QWubbG-o",
        "outputId": "883b815e-5800-4d02-e365-db0cfa562bba"
      },
      "execution_count": null,
      "outputs": [
        {
          "output_type": "display_data",
          "data": {
            "text/plain": [
              "<Figure size 700x600 with 1 Axes>"
            ],
            "image/png": "[encoded data removed]"
          },
          "metadata": {}
        }
      ]
    },
    {
      "cell_type": "code",
      "source": [
        "print(\"\\n📊 Final RMSE Comparison:\")\n",
        "print(f\"Linear Regression     : {rmse_lr:.2f}\")\n",
        "print(f\"Decision Tree         : {rmse_tree:.2f}\")\n",
        "print(f\"Random Forest         : {rmse_rf:.2f}\")\n",
        "print(f\"Rule-Based Formula    : {rule_rmse:.2f}\")\n"
      ],
      "metadata": {
        "colab": {
          "base_uri": "https://localhost:8080/"
        },
        "id": "n8Fu03BabK5K",
        "outputId": "ed94784e-8184-4661-ef0b-1e212031160c"
      },
      "execution_count": null,
      "outputs": [
        {
          "output_type": "stream",
          "name": "stdout",
          "text": [
            "\n",
            "📊 Final RMSE Comparison:\n",
            "Linear Regression     : 33.29\n",
            "Decision Tree         : 31.94\n",
            "Random Forest         : 19.30\n",
            "Rule-Based Formula    : 41.19\n"
          ]
        }
      ]
    },
    {
      "cell_type": "code",
      "source": [
        "import streamlit as st\n",
        "import joblib\n",
        "import numpy as np\n",
        "joblib.dump(rf_model, \"random_forest_model.pkl\")\n",
        "joblib.dump(features, \"model_features.pkl\")\n",
        "\n",
        "print(\"Model and features saved successfully.\")\n"
      ],
      "metadata": {
        "id": "sC50eQO9gG-4",
        "colab": {
          "base_uri": "https://localhost:8080/"
        },
        "outputId": "7b0ab15a-f3c7-48fb-e33f-2c480eeb961c"
      },
      "execution_count": null,
      "outputs": [
        {
          "output_type": "stream",
          "name": "stdout",
          "text": [
            "Model and features saved successfully.\n"
          ]
        }
      ]
    },
    {
      "cell_type": "code",
      "source": [
        "# Load model and features\n",
        "model = joblib.load(\"random_forest_model.pkl\")\n",
        "features = joblib.load(\"model_features.pkl\")"
      ],
      "metadata": {
        "id": "BtDyoKtGgM8P"
      },
      "execution_count": null,
      "outputs": []
    },
    {
      "cell_type": "code",
      "source": [
        "st.title(\"Fare Prediction App 🚕\")\n",
        "st.markdown(\"Enter trip and car details below to predict the expected fare:\")\n"
      ],
      "metadata": {
        "id": "s3Hg0I1cgQA-",
        "colab": {
          "base_uri": "https://localhost:8080/"
        },
        "outputId": "233fad9b-eb41-4ccc-d061-fd082819b540"
      },
      "execution_count": null,
      "outputs": [
        {
          "output_type": "stream",
          "name": "stderr",
          "text": [
            "2025-06-30 13:24:10.471 WARNING streamlit.runtime.scriptrunner_utils.script_run_context: Thread 'MainThread': missing ScriptRunContext! This warning can be ignored when running in bare mode.\n",
            "2025-06-30 13:24:10.569 \n",
            "  \u001b[33m\u001b[1mWarning:\u001b[0m to view this Streamlit app on a browser, run it with the following\n",
            "  command:\n",
            "\n",
            "    streamlit run /usr/local/lib/python3.11/dist-packages/colab_kernel_launcher.py [ARGUMENTS]\n",
            "2025-06-30 13:24:10.570 Thread 'MainThread': missing ScriptRunContext! This warning can be ignored when running in bare mode.\n",
            "2025-06-30 13:24:10.572 Thread 'MainThread': missing ScriptRunContext! This warning can be ignored when running in bare mode.\n",
            "2025-06-30 13:24:10.573 Thread 'MainThread': missing ScriptRunContext! This warning can be ignored when running in bare mode.\n",
            "2025-06-30 13:24:10.574 Thread 'MainThread': missing ScriptRunContext! This warning can be ignored when running in bare mode.\n",
            "2025-06-30 13:24:10.575 Thread 'MainThread': missing ScriptRunContext! This warning can be ignored when running in bare mode.\n"
          ]
        },
        {
          "output_type": "execute_result",
          "data": {
            "text/plain": [
              "DeltaGenerator()"
            ]
          },
          "metadata": {},
          "execution_count": 34
        }
      ]
    },
    {
      "cell_type": "code",
      "source": [
        "with open(\"app.py\", \"w\") as f:\n",
        "    f.write(\"\"\"import streamlit as st\n",
        "import numpy as np\n",
        "\n",
        "st.title(\"Fare Prediction App 🚕\")\n",
        "st.markdown(\"Enter trip and car details below to predict the expected fare:\")\n",
        "\n",
        "# User Inputs\n",
        "trip_distance_km = st.number_input(\"Trip Distance (km)\", min_value=0.1, step=0.1)\n",
        "claimed_mileage_kmpl = st.number_input(\"Claimed Mileage (km/l)\", min_value=1.0, step=0.5)\n",
        "fuel_price_per_litre = st.number_input(\"Fuel Price (Rs/litre)\", min_value=50.0, step=1.0)\n",
        "vehicle_age = st.slider(\"Vehicle Age (years)\", 0, 20, 5)\n",
        "AC_on = st.selectbox(\"AC On?\", [True, False])\n",
        "\n",
        "# Dropdowns\n",
        "ride_type = st.selectbox(\"Ride Type\", [\"Shared\", \"Exclusive\"])\n",
        "car_type = st.selectbox(\"Car Type\", [\"Hatch\", \"Sedan\", \"SUV\"])\n",
        "time_of_day = st.selectbox(\"Time of Day\", [\"Normal\", \"Rush Hour\"])\n",
        "day_type = st.selectbox(\"Day Type\", [\"Weekday\", \"Weekend\"])\n",
        "area_surge = st.slider(\"Area Surge (e.g. 0.1 for High Demand, -0.1 for Low)\", -0.2, 0.2, 0.0, step=0.05)\n",
        "\n",
        "# Prediction\n",
        "if st.button(\"Predict Fare\"):\n",
        "    # Define multipliers\n",
        "    age_factor = max(0.7, 1.0 - 0.05 * vehicle_age)\n",
        "    AC_factor = 1.05 if AC_on else 1.0\n",
        "    ride_type_factor = 1.0 if ride_type == \"Shared\" else 1.2\n",
        "    car_type_factor = {\"Hatch\": 1.0, \"Sedan\": 1.1, \"SUV\": 1.2}[car_type]\n",
        "    time_of_day_factor = 1.2 if time_of_day == \"Rush Hour\" else 1.0\n",
        "    day_type_factor = 1.1 if day_type == \"Weekend\" else 1.0\n",
        "\n",
        "    # M2 calculation\n",
        "    M2_core = age_factor * AC_factor * ride_type_factor * car_type_factor * time_of_day_factor * day_type_factor\n",
        "    M2 = M2_core + area_surge\n",
        "\n",
        "    # Fare calculation\n",
        "    base_fare = (trip_distance_km / claimed_mileage_kmpl) * fuel_price_per_litre * M2\n",
        "    fare = max(base_fare, 40)\n",
        "\n",
        "    # Display final fare\n",
        "    st.success(f\"Estimated Fare: Rs {fare:.2f}\")\n",
        "\n",
        "    # Generate receipt\n",
        "    receipt = f\\\"\"\"Fare Receipt - Tiaro\n",
        "\n",
        "Trip Distance     : {trip_distance_km} km\n",
        "Claimed Mileage   : {claimed_mileage_kmpl} km/l\n",
        "Fuel Price        : Rs {fuel_price_per_litre}/litre\n",
        "Vehicle Age       : {vehicle_age} years\n",
        "AC On             : {'Yes' if AC_on else 'No'}\n",
        "Ride Type         : {ride_type}\n",
        "Car Type          : {car_type}\n",
        "Time of Day       : {time_of_day}\n",
        "Day Type          : {day_type}\n",
        "Area Surge        : {area_surge:+.2f}\n",
        "\n",
        "-------------------------------------\n",
        "Raw Fare           : Rs {base_fare:.2f}\n",
        "Final Fare (min Rs 40): Rs {fare:.2f}\n",
        "-------------------------------------\n",
        "\n",
        "Thank you for riding with Tiaro!\n",
        "\\\"\"\"\n",
        "\n",
        "    st.download_button(\"🧾 Download Fare Receipt\", receipt, file_name=\"fare_receipt.txt\")\n",
        "\"\"\")\n"
      ],
      "metadata": {
        "id": "Nd9WskRFgS0F"
      },
      "execution_count": null,
      "outputs": []
    },
    {
      "cell_type": "code",
      "source": [
        "from pyngrok import ngrok\n",
        "ngrok.set_auth_token(\"2ySJQ3hoL0qzgTf7BACjCuBjHLO_4NroBe6nF6rw3BXYoT81g\")\n"
      ],
      "metadata": {
        "id": "yXnPxjwSlaiA",
        "colab": {
          "base_uri": "https://localhost:8080/"
        },
        "outputId": "9cbed5a7-daf7-484e-c8c3-80340f971936"
      },
      "execution_count": null,
      "outputs": [
        {
          "output_type": "stream",
          "name": "stdout",
          "text": []
        }
      ]
    },
    {
      "cell_type": "code",
      "source": [
        "!streamlit run app.py &>/content/log.txt &\n"
      ],
      "metadata": {
        "id": "MDHTSgIrASzS"
      },
      "execution_count": null,
      "outputs": []
    },
    {
      "cell_type": "code",
      "source": [
        "public_url = ngrok.connect(8501)\n",
        "print(\"Your app is live at:\", public_url)\n"
      ],
      "metadata": {
        "id": "tC_gStqBxaqh",
        "colab": {
          "base_uri": "https://localhost:8080/"
        },
        "outputId": "091784ff-38a4-4ae0-9a04-9521908e00e0"
      },
      "execution_count": null,
      "outputs": [
        {
          "output_type": "stream",
          "name": "stdout",
          "text": [
            "Your app is live at: NgrokTunnel: \"https://9083-34-16-183-125.ngrok-free.app\" -> \"http://localhost:8501\"\n"
          ]
        }
      ]
    },
    {
      "cell_type": "markdown",
      "source": [
        "Mileage Prediction"
      ],
      "metadata": {
        "id": "zaT1X-OoQ9lW"
      }
    },
    {
      "cell_type": "code",
      "source": [
        "%%writefile app.py\n",
        "import streamlit as st\n",
        "import numpy as np\n",
        "import pandas as pd\n",
        "from sklearn.linear_model import LinearRegression\n",
        "\n",
        "st.title(\"Fare & Mileage Prediction App 🚕\")\n",
        "\n",
        "trip_distance_km = st.number_input(\"Trip Distance (km)\", min_value=0.1, step=0.1)\n",
        "fuel_price_per_litre = st.number_input(\"Fuel Price (Rs/litre)\", min_value=50.0, step=1.0)\n",
        "vehicle_age = st.slider(\"Vehicle Age (years)\", 0, 20, 5)\n",
        "AC_on = st.selectbox(\"AC On?\", [True, False])\n",
        "ride_type = st.selectbox(\"Ride Type\", [\"Shared\", \"Exclusive\"])\n",
        "car_type = st.selectbox(\"Car Type\", [\"Hatch\", \"Sedan\", \"SUV\"])\n",
        "time_of_day = st.selectbox(\"Time of Day\", [\"Normal\", \"Rush Hour\"])\n",
        "area_surge = st.slider(\"Area Surge\", -0.2, 0.2, 0.0, step=0.05)\n",
        "\n",
        "# Simulate training data\n",
        "np.random.seed(42)\n",
        "n = 500\n",
        "train_df = pd.DataFrame({\n",
        "    'vehicle_age': np.random.randint(0, 20, n),\n",
        "    'ac_factor': np.random.choice([1.0, 1.2], n, p=[0.6, 0.4]),\n",
        "    'ride_type_factor': np.random.choice([1.0, 1.2], n),\n",
        "    'car_type_factor': np.random.choice([1.0, 1.1, 1.2], n),\n",
        "    'time_of_day_factor': np.random.choice([1.0, 1.2], n)\n",
        "})\n",
        "\n",
        "# Create realistic mileage (12–20 km/l base)\n",
        "train_df['mileage'] = (\n",
        "    18\n",
        "    - 0.5 * train_df['vehicle_age']\n",
        "    - 2.0 * (train_df['ac_factor'] - 1.0)\n",
        "    - 1.5 * (train_df['car_type_factor'] - 1.0)\n",
        "    - 1.0 * (train_df['ride_type_factor'] - 1.0)\n",
        "    - 0.5 * (train_df['time_of_day_factor'] - 1.0)\n",
        "    + np.random.normal(0, 0.5, n)\n",
        ")\n",
        "train_df['mileage'] = train_df['mileage'].clip(lower=8, upper=22)\n",
        "\n",
        "# Train the mileage prediction model\n",
        "model = LinearRegression()\n",
        "model.fit(train_df[['vehicle_age', 'ac_factor', 'ride_type_factor', 'car_type_factor', 'time_of_day_factor']], train_df['mileage'])\n",
        "\n",
        "# User inputs to model\n",
        "ac_factor = 1.2 if AC_on else 1.0\n",
        "ride_type_factor = 1.0 if ride_type == \"Shared\" else 1.2\n",
        "car_type_factor = {\"Hatch\": 1.0, \"Sedan\": 1.1, \"SUV\": 1.2}.get(car_type, 1.0)\n",
        "time_of_day_factor = 1.2 if time_of_day == \"Rush Hour\" else 1.0\n",
        "\n",
        "user_X = pd.DataFrame([{\n",
        "    'vehicle_age': vehicle_age,\n",
        "    'ac_factor': ac_factor,\n",
        "    'ride_type_factor': ride_type_factor,\n",
        "    'car_type_factor': car_type_factor,\n",
        "    'time_of_day_factor': time_of_day_factor\n",
        "}])\n",
        "\n",
        "if st.button(\"Predict Fare & Mileage\"):\n",
        "    predicted_mileage = model.predict(user_X)[0]\n",
        "    predicted_mileage = np.clip(predicted_mileage, 8.0, 22.0)\n",
        "\n",
        "    # Fare logic\n",
        "    fuel_used = trip_distance_km / predicted_mileage\n",
        "    base_fare = fuel_used * fuel_price_per_litre\n",
        "    final_fare = max(40, base_fare * (1 + area_surge))\n",
        "\n",
        "    # Show output\n",
        "    st.success(f\"Predicted Mileage: {predicted_mileage:.2f} km/l\")\n",
        "    st.success(f\"Estimated Fare: Rs {final_fare:.2f}\")\n",
        "\n",
        "    # Fare receipt\n",
        "    receipt = f\"\"\"\n",
        "Fare & Mileage Receipt - Tiaro\n",
        "\n",
        "Trip Distance     : {trip_distance_km} km\n",
        "Fuel Price        : Rs {fuel_price_per_litre}/litre\n",
        "Vehicle Age       : {vehicle_age} years\n",
        "AC On             : {'Yes' if AC_on else 'No'}\n",
        "Ride Type         : {ride_type}\n",
        "Car Type          : {car_type}\n",
        "Time of Day       : {time_of_day}\n",
        "Area Surge        : {area_surge:+.2f}\n",
        "\n",
        "Predicted Mileage : {predicted_mileage:.2f} km/l\n",
        "Raw Fare          : Rs {base_fare:.2f}\n",
        "Final Fare        : Rs {final_fare:.2f}\n",
        "\n",
        "Thank you for riding with Tiaro!\n",
        "\"\"\"\n",
        "\n",
        "    st.download_button(\"🧾 Download Fare Receipt\", receipt, file_name=\"fare_receipt.txt\")\n"
      ],
      "metadata": {
        "id": "_C58T0TWgoxn",
        "colab": {
          "base_uri": "https://localhost:8080/"
        },
        "outputId": "0fb2bc80-d5dd-4b6a-de7c-52bc4de22e89"
      },
      "execution_count": 47,
      "outputs": [
        {
          "output_type": "stream",
          "name": "stdout",
          "text": [
            "Overwriting app.py\n"
          ]
        }
      ]
    },
    {
      "cell_type": "code",
      "source": [
        "!pip install streamlit pyngrok\n"
      ],
      "metadata": {
        "id": "f-PgMNlMgsr5",
        "colab": {
          "base_uri": "https://localhost:8080/"
        },
        "outputId": "c120c167-04f6-41f3-ad25-dd7cfb429497"
      },
      "execution_count": 48,
      "outputs": [
        {
          "output_type": "stream",
          "name": "stdout",
          "text": [
            "Requirement already satisfied: streamlit in /usr/local/lib/python3.11/dist-packages (1.46.1)\n",
            "Requirement already satisfied: pyngrok in /usr/local/lib/python3.11/dist-packages (7.2.11)\n",
            "Requirement already satisfied: altair<6,>=4.0 in /usr/local/lib/python3.11/dist-packages (from streamlit) (5.5.0)\n",
            "Requirement already satisfied: blinker<2,>=1.5.0 in /usr/local/lib/python3.11/dist-packages (from streamlit) (1.9.0)\n",
            "Requirement already satisfied: cachetools<7,>=4.0 in /usr/local/lib/python3.11/dist-packages (from streamlit) (5.5.2)\n",
            "Requirement already satisfied: click<9,>=7.0 in /usr/local/lib/python3.11/dist-packages (from streamlit) (8.2.1)\n",
            "Requirement already satisfied: numpy<3,>=1.23 in /usr/local/lib/python3.11/dist-packages (from streamlit) (2.0.2)\n",
            "Requirement already satisfied: packaging<26,>=20 in /usr/local/lib/python3.11/dist-packages (from streamlit) (24.2)\n",
            "Requirement already satisfied: pandas<3,>=1.4.0 in /usr/local/lib/python3.11/dist-packages (from streamlit) (2.2.2)\n",
            "Requirement already satisfied: pillow<12,>=7.1.0 in /usr/local/lib/python3.11/dist-packages (from streamlit) (11.2.1)\n",
            "Requirement already satisfied: protobuf<7,>=3.20 in /usr/local/lib/python3.11/dist-packages (from streamlit) (5.29.5)\n",
            "Requirement already satisfied: pyarrow>=7.0 in /usr/local/lib/python3.11/dist-packages (from streamlit) (18.1.0)\n",
            "Requirement already satisfied: requests<3,>=2.27 in /usr/local/lib/python3.11/dist-packages (from streamlit) (2.32.3)\n",
            "Requirement already satisfied: tenacity<10,>=8.1.0 in /usr/local/lib/python3.11/dist-packages (from streamlit) (8.5.0)\n",
            "Requirement already satisfied: toml<2,>=0.10.1 in /usr/local/lib/python3.11/dist-packages (from streamlit) (0.10.2)\n",
            "Requirement already satisfied: typing-extensions<5,>=4.4.0 in /usr/local/lib/python3.11/dist-packages (from streamlit) (4.14.0)\n",
            "Requirement already satisfied: watchdog<7,>=2.1.5 in /usr/local/lib/python3.11/dist-packages (from streamlit) (6.0.0)\n",
            "Requirement already satisfied: gitpython!=3.1.19,<4,>=3.0.7 in /usr/local/lib/python3.11/dist-packages (from streamlit) (3.1.44)\n",
            "Requirement already satisfied: pydeck<1,>=0.8.0b4 in /usr/local/lib/python3.11/dist-packages (from streamlit) (0.9.1)\n",
            "Requirement already satisfied: tornado!=6.5.0,<7,>=6.0.3 in /usr/local/lib/python3.11/dist-packages (from streamlit) (6.4.2)\n",
            "Requirement already satisfied: PyYAML>=5.1 in /usr/local/lib/python3.11/dist-packages (from pyngrok) (6.0.2)\n",
            "Requirement already satisfied: jinja2 in /usr/local/lib/python3.11/dist-packages (from altair<6,>=4.0->streamlit) (3.1.6)\n",
            "Requirement already satisfied: jsonschema>=3.0 in /usr/local/lib/python3.11/dist-packages (from altair<6,>=4.0->streamlit) (4.24.0)\n",
            "Requirement already satisfied: narwhals>=1.14.2 in /usr/local/lib/python3.11/dist-packages (from altair<6,>=4.0->streamlit) (1.44.0)\n",
            "Requirement already satisfied: gitdb<5,>=4.0.1 in /usr/local/lib/python3.11/dist-packages (from gitpython!=3.1.19,<4,>=3.0.7->streamlit) (4.0.12)\n",
            "Requirement already satisfied: python-dateutil>=2.8.2 in /usr/local/lib/python3.11/dist-packages (from pandas<3,>=1.4.0->streamlit) (2.9.0.post0)\n",
            "Requirement already satisfied: pytz>=2020.1 in /usr/local/lib/python3.11/dist-packages (from pandas<3,>=1.4.0->streamlit) (2025.2)\n",
            "Requirement already satisfied: tzdata>=2022.7 in /usr/local/lib/python3.11/dist-packages (from pandas<3,>=1.4.0->streamlit) (2025.2)\n",
            "Requirement already satisfied: charset-normalizer<4,>=2 in /usr/local/lib/python3.11/dist-packages (from requests<3,>=2.27->streamlit) (3.4.2)\n",
            "Requirement already satisfied: idna<4,>=2.5 in /usr/local/lib/python3.11/dist-packages (from requests<3,>=2.27->streamlit) (3.10)\n",
            "Requirement already satisfied: urllib3<3,>=1.21.1 in /usr/local/lib/python3.11/dist-packages (from requests<3,>=2.27->streamlit) (2.4.0)\n",
            "Requirement already satisfied: certifi>=2017.4.17 in /usr/local/lib/python3.11/dist-packages (from requests<3,>=2.27->streamlit) (2025.6.15)\n",
            "Requirement already satisfied: smmap<6,>=3.0.1 in /usr/local/lib/python3.11/dist-packages (from gitdb<5,>=4.0.1->gitpython!=3.1.19,<4,>=3.0.7->streamlit) (5.0.2)\n",
            "Requirement already satisfied: MarkupSafe>=2.0 in /usr/local/lib/python3.11/dist-packages (from jinja2->altair<6,>=4.0->streamlit) (3.0.2)\n",
            "Requirement already satisfied: attrs>=22.2.0 in /usr/local/lib/python3.11/dist-packages (from jsonschema>=3.0->altair<6,>=4.0->streamlit) (25.3.0)\n",
            "Requirement already satisfied: jsonschema-specifications>=2023.03.6 in /usr/local/lib/python3.11/dist-packages (from jsonschema>=3.0->altair<6,>=4.0->streamlit) (2025.4.1)\n",
            "Requirement already satisfied: referencing>=0.28.4 in /usr/local/lib/python3.11/dist-packages (from jsonschema>=3.0->altair<6,>=4.0->streamlit) (0.36.2)\n",
            "Requirement already satisfied: rpds-py>=0.7.1 in /usr/local/lib/python3.11/dist-packages (from jsonschema>=3.0->altair<6,>=4.0->streamlit) (0.25.1)\n",
            "Requirement already satisfied: six>=1.5 in /usr/local/lib/python3.11/dist-packages (from python-dateutil>=2.8.2->pandas<3,>=1.4.0->streamlit) (1.17.0)\n"
          ]
        }
      ]
    },
    {
      "cell_type": "code",
      "source": [
        "from pyngrok import ngrok\n",
        "\n",
        "# Kill any previous tunnels\n",
        "ngrok.kill()"
      ],
      "metadata": {
        "id": "39CmUGyAgv31"
      },
      "execution_count": 49,
      "outputs": []
    },
    {
      "cell_type": "code",
      "source": [
        "# Run streamlit + open tunnel\n",
        "get_ipython().system_raw('streamlit run app.py &')"
      ],
      "metadata": {
        "id": "-GYIqEDAicqj"
      },
      "execution_count": 50,
      "outputs": []
    },
    {
      "cell_type": "code",
      "source": [
        "public_url = ngrok.connect(8501)\n",
        "print(f\"🚀 Your app is live at: {public_url}\")\n"
      ],
      "metadata": {
        "id": "jtJi4Y2iiflb",
        "colab": {
          "base_uri": "https://localhost:8080/"
        },
        "outputId": "2a389b14-5c6e-408d-b38c-719f896c80c6"
      },
      "execution_count": 51,
      "outputs": [
        {
          "output_type": "stream",
          "name": "stdout",
          "text": [
            "🚀 Your app is live at: NgrokTunnel: \"https://8cd4-34-16-183-125.ngrok-free.app\" -> \"http://localhost:8501\"\n"
          ]
        }
      ]
    }
  ]
}